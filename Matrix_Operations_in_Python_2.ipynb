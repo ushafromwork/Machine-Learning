{
  "nbformat": 4,
  "nbformat_minor": 0,
  "metadata": {
    "colab": {
      "provenance": [],
      "authorship_tag": "ABX9TyNNvUdEM7O/rOeTnUiDcvrm",
      "include_colab_link": true
    },
    "kernelspec": {
      "name": "python3",
      "display_name": "Python 3"
    },
    "language_info": {
      "name": "python"
    }
  },
  "cells": [
    {
      "cell_type": "markdown",
      "metadata": {
        "id": "view-in-github",
        "colab_type": "text"
      },
      "source": [
        "<a href=\"https://colab.research.google.com/github/ushafromwork/Machine-Learning/blob/main/Matrix_Operations_in_Python_2.ipynb\" target=\"_parent\"><img src=\"https://colab.research.google.com/assets/colab-badge.svg\" alt=\"Open In Colab\"/></a>"
      ]
    },
    {
      "cell_type": "code",
      "execution_count": 2,
      "metadata": {
        "id": "ZoPPLNbMJZOk"
      },
      "outputs": [],
      "source": [
        "import numpy as np\n"
      ]
    },
    {
      "cell_type": "markdown",
      "source": [
        "**Matrix Addition**\n",
        "\n",
        "Two matrices can be added if they have same shape"
      ],
      "metadata": {
        "id": "L2jjIJaJhWH8"
      }
    },
    {
      "cell_type": "code",
      "source": [
        "#creating two matrices\n",
        "a=np.array([[2,3],[4,5]])\n",
        "b=np.array([[6,7],[8,9]])"
      ],
      "metadata": {
        "id": "g6yeYx_DhbJu"
      },
      "execution_count": 3,
      "outputs": []
    },
    {
      "cell_type": "code",
      "source": [
        "print(a)"
      ],
      "metadata": {
        "colab": {
          "base_uri": "https://localhost:8080/"
        },
        "id": "sBN154RjiBN8",
        "outputId": "c66d6edd-7947-4393-ccb2-ba228113db25"
      },
      "execution_count": 4,
      "outputs": [
        {
          "output_type": "stream",
          "name": "stdout",
          "text": [
            "[[2 3]\n",
            " [4 5]]\n"
          ]
        }
      ]
    },
    {
      "cell_type": "code",
      "source": [
        "#shape of matrix\n",
        "a.shape"
      ],
      "metadata": {
        "colab": {
          "base_uri": "https://localhost:8080/"
        },
        "id": "tmrlImsTiEaV",
        "outputId": "36e2717d-4944-4e12-d3ee-6a51c54128a8"
      },
      "execution_count": 5,
      "outputs": [
        {
          "output_type": "execute_result",
          "data": {
            "text/plain": [
              "(2, 2)"
            ]
          },
          "metadata": {},
          "execution_count": 5
        }
      ]
    },
    {
      "cell_type": "code",
      "source": [
        "b.shape"
      ],
      "metadata": {
        "colab": {
          "base_uri": "https://localhost:8080/"
        },
        "id": "qwk59FgXiNpz",
        "outputId": "0ee34039-868b-410e-fd65-34d8f28668cf"
      },
      "execution_count": 6,
      "outputs": [
        {
          "output_type": "execute_result",
          "data": {
            "text/plain": [
              "(2, 2)"
            ]
          },
          "metadata": {},
          "execution_count": 6
        }
      ]
    },
    {
      "cell_type": "code",
      "source": [
        "#Addition of two matrices\n",
        "add=np.add(a,b)"
      ],
      "metadata": {
        "id": "1cV39zkOiPrT"
      },
      "execution_count": 7,
      "outputs": []
    },
    {
      "cell_type": "code",
      "source": [
        "print(add)"
      ],
      "metadata": {
        "colab": {
          "base_uri": "https://localhost:8080/"
        },
        "id": "YckU0EHhiUZS",
        "outputId": "f6e9eac5-17d4-4a5c-abee-e38c277cd76c"
      },
      "execution_count": 8,
      "outputs": [
        {
          "output_type": "stream",
          "name": "stdout",
          "text": [
            "[[ 8 10]\n",
            " [12 14]]\n"
          ]
        }
      ]
    },
    {
      "cell_type": "code",
      "source": [
        "#Creating two matrices with random values\n",
        "matrix_1=np.random.randint(10,size=(3,3))\n",
        "matrix_2=np.random.randint(20,size=(3,3))"
      ],
      "metadata": {
        "id": "deezvbupimc-"
      },
      "execution_count": 9,
      "outputs": []
    },
    {
      "cell_type": "code",
      "source": [
        "matrix_add=np.add(matrix_1,matrix_2)"
      ],
      "metadata": {
        "id": "AtQSBQlUjAw6"
      },
      "execution_count": 10,
      "outputs": []
    },
    {
      "cell_type": "code",
      "source": [
        "print(matrix_1)"
      ],
      "metadata": {
        "colab": {
          "base_uri": "https://localhost:8080/"
        },
        "id": "Y1iZdgZXjLJu",
        "outputId": "a98cab6f-eaa6-457c-e244-2ba802ec10aa"
      },
      "execution_count": 12,
      "outputs": [
        {
          "output_type": "stream",
          "name": "stdout",
          "text": [
            "[[0 3 6]\n",
            " [2 4 2]\n",
            " [0 2 2]]\n"
          ]
        }
      ]
    },
    {
      "cell_type": "code",
      "source": [
        "print(matrix_2)"
      ],
      "metadata": {
        "colab": {
          "base_uri": "https://localhost:8080/"
        },
        "id": "TgSmc8IMjOUs",
        "outputId": "644b7e45-9c08-4b8b-c3d4-b73faec8dc9a"
      },
      "execution_count": 13,
      "outputs": [
        {
          "output_type": "stream",
          "name": "stdout",
          "text": [
            "[[18 16  0]\n",
            " [ 4 18 15]\n",
            " [11  8  6]]\n"
          ]
        }
      ]
    },
    {
      "cell_type": "code",
      "source": [
        "print(matrix_add)"
      ],
      "metadata": {
        "colab": {
          "base_uri": "https://localhost:8080/"
        },
        "id": "PX08j_ILjGuG",
        "outputId": "8105fca9-e10e-421c-def9-856c4061496f"
      },
      "execution_count": 11,
      "outputs": [
        {
          "output_type": "stream",
          "name": "stdout",
          "text": [
            "[[18 19  6]\n",
            " [ 6 22 17]\n",
            " [11 10  8]]\n"
          ]
        }
      ]
    },
    {
      "cell_type": "code",
      "source": [
        "matrix_3=np.random.randint(10,size=(3,3))\n",
        "matrix_4=np.random.randint(20,size=(3,4))"
      ],
      "metadata": {
        "id": "kM5ACEwmjdJG"
      },
      "execution_count": 14,
      "outputs": []
    },
    {
      "cell_type": "code",
      "source": [
        "matrix_sum=np.add(matrix_3,matrix_4)"
      ],
      "metadata": {
        "colab": {
          "base_uri": "https://localhost:8080/",
          "height": 144
        },
        "id": "9GN6YZMVjjTy",
        "outputId": "78b85bda-2ed1-42aa-ebf4-30014da3d8b0"
      },
      "execution_count": 15,
      "outputs": [
        {
          "output_type": "error",
          "ename": "ValueError",
          "evalue": "operands could not be broadcast together with shapes (3,3) (3,4) ",
          "traceback": [
            "\u001b[0;31m---------------------------------------------------------------------------\u001b[0m",
            "\u001b[0;31mValueError\u001b[0m                                Traceback (most recent call last)",
            "\u001b[0;32m<ipython-input-15-b67b098714e8>\u001b[0m in \u001b[0;36m<cell line: 1>\u001b[0;34m()\u001b[0m\n\u001b[0;32m----> 1\u001b[0;31m \u001b[0mmatrix_sum\u001b[0m\u001b[0;34m=\u001b[0m\u001b[0mnp\u001b[0m\u001b[0;34m.\u001b[0m\u001b[0madd\u001b[0m\u001b[0;34m(\u001b[0m\u001b[0mmatrix_3\u001b[0m\u001b[0;34m,\u001b[0m\u001b[0mmatrix_4\u001b[0m\u001b[0;34m)\u001b[0m\u001b[0;34m\u001b[0m\u001b[0;34m\u001b[0m\u001b[0m\n\u001b[0m",
            "\u001b[0;31mValueError\u001b[0m: operands could not be broadcast together with shapes (3,3) (3,4) "
          ]
        }
      ]
    },
    {
      "cell_type": "markdown",
      "source": [
        "WE get the above error because the shape of two matrices is not same"
      ],
      "metadata": {
        "id": "wQqhMlAvjx7G"
      }
    },
    {
      "cell_type": "markdown",
      "source": [
        "**Matrix subtraction**"
      ],
      "metadata": {
        "id": "2CHx_RzNj4XI"
      }
    },
    {
      "cell_type": "code",
      "source": [
        "x=np.random.randint(10,size=(3,3))\n",
        "y=np.random.randint(20,size=(3,3))"
      ],
      "metadata": {
        "id": "Rb-71lygj7xo"
      },
      "execution_count": 16,
      "outputs": []
    },
    {
      "cell_type": "code",
      "source": [
        "sub=x-y\n",
        "print(sub)"
      ],
      "metadata": {
        "colab": {
          "base_uri": "https://localhost:8080/"
        },
        "id": "j6lo6iwykBab",
        "outputId": "d3559bf3-a756-435f-bf43-9984433ff30e"
      },
      "execution_count": 19,
      "outputs": [
        {
          "output_type": "stream",
          "name": "stdout",
          "text": [
            "[[-3  0  1]\n",
            " [ 2  4  5]\n",
            " [-8 -5 -4]]\n"
          ]
        }
      ]
    },
    {
      "cell_type": "code",
      "source": [
        "subtract=np.subtract(x,y)"
      ],
      "metadata": {
        "id": "nVlECxpQkgBY"
      },
      "execution_count": 20,
      "outputs": []
    },
    {
      "cell_type": "code",
      "source": [
        "print(subtract)"
      ],
      "metadata": {
        "colab": {
          "base_uri": "https://localhost:8080/"
        },
        "id": "mnHU6mmIklBQ",
        "outputId": "1e99b5de-bcb3-4d09-875d-e555d8bf9fa0"
      },
      "execution_count": 21,
      "outputs": [
        {
          "output_type": "stream",
          "name": "stdout",
          "text": [
            "[[-3  0  1]\n",
            " [ 2  4  5]\n",
            " [-8 -5 -4]]\n"
          ]
        }
      ]
    },
    {
      "cell_type": "markdown",
      "source": [
        "**Multiply Matrix with a scalar**"
      ],
      "metadata": {
        "id": "iNx8-fyvkqne"
      }
    },
    {
      "cell_type": "code",
      "source": [
        "c=np.array([[2,3],[6,7]])\n",
        "d=2"
      ],
      "metadata": {
        "id": "m7981ZS3kzNL"
      },
      "execution_count": 23,
      "outputs": []
    },
    {
      "cell_type": "code",
      "source": [
        "mult=c*d\n",
        "print(mult)"
      ],
      "metadata": {
        "colab": {
          "base_uri": "https://localhost:8080/"
        },
        "id": "WLzkFa0blEde",
        "outputId": "a5b68346-ae29-479e-e921-72b53624378f"
      },
      "execution_count": 24,
      "outputs": [
        {
          "output_type": "stream",
          "name": "stdout",
          "text": [
            "[[ 4  6]\n",
            " [12 14]]\n"
          ]
        }
      ]
    },
    {
      "cell_type": "code",
      "source": [
        "e=np.random.randint(10,size=(3,3))\n",
        "f=4\n",
        "print(e)"
      ],
      "metadata": {
        "colab": {
          "base_uri": "https://localhost:8080/"
        },
        "id": "Ldcr_wuGlTvA",
        "outputId": "c4d71772-e463-43e4-bee6-9c3f96938676"
      },
      "execution_count": 28,
      "outputs": [
        {
          "output_type": "stream",
          "name": "stdout",
          "text": [
            "[[2 6 4]\n",
            " [7 0 8]\n",
            " [8 9 2]]\n"
          ]
        }
      ]
    },
    {
      "cell_type": "code",
      "source": [
        "multiply=np.multiply(e,f)\n",
        "print(multiply)"
      ],
      "metadata": {
        "colab": {
          "base_uri": "https://localhost:8080/"
        },
        "id": "G_H7kMVxlejm",
        "outputId": "d32923a8-d7e8-4115-b085-a4ecb05e219c"
      },
      "execution_count": 29,
      "outputs": [
        {
          "output_type": "stream",
          "name": "stdout",
          "text": [
            "[[ 8 24 16]\n",
            " [28  0 32]\n",
            " [32 36  8]]\n"
          ]
        }
      ]
    },
    {
      "cell_type": "markdown",
      "source": [
        "**Multiplying two matrices**"
      ],
      "metadata": {
        "id": "wudrSsyZl0zE"
      }
    },
    {
      "cell_type": "code",
      "source": [
        "x1=np.random.randint(5,size=(3,3))\n",
        "y1=np.random.randint(3,size=(3,4))"
      ],
      "metadata": {
        "id": "z_USavY5mBq4"
      },
      "execution_count": 30,
      "outputs": []
    },
    {
      "cell_type": "code",
      "source": [
        "print(x1)"
      ],
      "metadata": {
        "colab": {
          "base_uri": "https://localhost:8080/"
        },
        "id": "vBGybHItmOpO",
        "outputId": "dac70421-4202-4587-80ba-ef1ad37708fc"
      },
      "execution_count": 31,
      "outputs": [
        {
          "output_type": "stream",
          "name": "stdout",
          "text": [
            "[[3 3 3]\n",
            " [4 4 0]\n",
            " [2 0 0]]\n"
          ]
        }
      ]
    },
    {
      "cell_type": "code",
      "source": [
        "print(y1)"
      ],
      "metadata": {
        "colab": {
          "base_uri": "https://localhost:8080/"
        },
        "id": "GzqvwKyymRqE",
        "outputId": "132bea27-6920-4cf5-e827-b28062ae14a0"
      },
      "execution_count": 32,
      "outputs": [
        {
          "output_type": "stream",
          "name": "stdout",
          "text": [
            "[[0 1 2 1]\n",
            " [2 0 2 0]\n",
            " [0 2 0 0]]\n"
          ]
        }
      ]
    },
    {
      "cell_type": "code",
      "source": [
        "product=np.dot(x1,y1)\n",
        "print(product)"
      ],
      "metadata": {
        "colab": {
          "base_uri": "https://localhost:8080/"
        },
        "id": "8TZsld3MmVr4",
        "outputId": "62751319-f1e7-409d-db7b-cbb5344241d2"
      },
      "execution_count": 34,
      "outputs": [
        {
          "output_type": "stream",
          "name": "stdout",
          "text": [
            "[[ 6  9 12  3]\n",
            " [ 8  4 16  4]\n",
            " [ 0  2  4  2]]\n"
          ]
        }
      ]
    },
    {
      "cell_type": "code",
      "source": [
        "product.shape"
      ],
      "metadata": {
        "colab": {
          "base_uri": "https://localhost:8080/"
        },
        "id": "18ndDgdYmeup",
        "outputId": "fb3ef9fd-a709-4367-8049-26d2c66eacb6"
      },
      "execution_count": 35,
      "outputs": [
        {
          "output_type": "execute_result",
          "data": {
            "text/plain": [
              "(3, 4)"
            ]
          },
          "metadata": {},
          "execution_count": 35
        }
      ]
    },
    {
      "cell_type": "code",
      "source": [
        "x2=np.random.randint(5,size=(3,3))\n",
        "y2=np.random.randint(3,size=(4,4))"
      ],
      "metadata": {
        "id": "Ypr5Uth_nA2i"
      },
      "execution_count": 36,
      "outputs": []
    },
    {
      "cell_type": "code",
      "source": [
        "product1=np.dot(x2,y2)"
      ],
      "metadata": {
        "colab": {
          "base_uri": "https://localhost:8080/",
          "height": 144
        },
        "id": "lhJZoUb4nFEX",
        "outputId": "e6ea879d-e7f2-4de9-945e-8d93b27c19bb"
      },
      "execution_count": 37,
      "outputs": [
        {
          "output_type": "error",
          "ename": "ValueError",
          "evalue": "shapes (3,3) and (4,4) not aligned: 3 (dim 1) != 4 (dim 0)",
          "traceback": [
            "\u001b[0;31m---------------------------------------------------------------------------\u001b[0m",
            "\u001b[0;31mValueError\u001b[0m                                Traceback (most recent call last)",
            "\u001b[0;32m<ipython-input-37-36bdafcfee22>\u001b[0m in \u001b[0;36m<cell line: 1>\u001b[0;34m()\u001b[0m\n\u001b[0;32m----> 1\u001b[0;31m \u001b[0mproduct1\u001b[0m\u001b[0;34m=\u001b[0m\u001b[0mnp\u001b[0m\u001b[0;34m.\u001b[0m\u001b[0mdot\u001b[0m\u001b[0;34m(\u001b[0m\u001b[0mx2\u001b[0m\u001b[0;34m,\u001b[0m\u001b[0my2\u001b[0m\u001b[0;34m)\u001b[0m\u001b[0;34m\u001b[0m\u001b[0;34m\u001b[0m\u001b[0m\n\u001b[0m",
            "\u001b[0;31mValueError\u001b[0m: shapes (3,3) and (4,4) not aligned: 3 (dim 1) != 4 (dim 0)"
          ]
        }
      ]
    },
    {
      "cell_type": "markdown",
      "source": [
        "The above error explains that shape of the two matrices should be aligned to perform multiplication,first matrix column and 2nd matrix row should be same"
      ],
      "metadata": {
        "id": "Ox6JWnBYnLt8"
      }
    },
    {
      "cell_type": "markdown",
      "source": [
        "**Element wise matrix multiplication**\n",
        "\n",
        "shape should be same of two matrices"
      ],
      "metadata": {
        "id": "SQA3y-iDnhEn"
      }
    },
    {
      "cell_type": "code",
      "source": [
        "x3=np.random.randint(5,size=(3,3))\n",
        "y3=np.random.randint(5,size=(3,3))"
      ],
      "metadata": {
        "id": "wIw_3nV4n1iy"
      },
      "execution_count": 39,
      "outputs": []
    },
    {
      "cell_type": "code",
      "source": [
        "print(x3,y3)"
      ],
      "metadata": {
        "colab": {
          "base_uri": "https://localhost:8080/"
        },
        "id": "BIafwwDJpfVk",
        "outputId": "200aa0ff-ba88-41d5-a1bc-3c7b1cd08c4f"
      },
      "execution_count": 40,
      "outputs": [
        {
          "output_type": "stream",
          "name": "stdout",
          "text": [
            "[[2 4 1]\n",
            " [4 2 3]\n",
            " [0 4 3]] [[4 4 3]\n",
            " [0 2 0]\n",
            " [2 4 2]]\n"
          ]
        }
      ]
    },
    {
      "cell_type": "code",
      "source": [
        "product3=np.multiply(x3,y3)"
      ],
      "metadata": {
        "id": "4DbxX359pk2t"
      },
      "execution_count": 41,
      "outputs": []
    },
    {
      "cell_type": "code",
      "source": [
        "print(product3)"
      ],
      "metadata": {
        "colab": {
          "base_uri": "https://localhost:8080/"
        },
        "id": "5wG3GV4CppO_",
        "outputId": "daf27870-561a-473a-ba85-7358b734c52f"
      },
      "execution_count": 42,
      "outputs": [
        {
          "output_type": "stream",
          "name": "stdout",
          "text": [
            "[[ 8 16  3]\n",
            " [ 0  4  0]\n",
            " [ 0 16  6]]\n"
          ]
        }
      ]
    }
  ]
}