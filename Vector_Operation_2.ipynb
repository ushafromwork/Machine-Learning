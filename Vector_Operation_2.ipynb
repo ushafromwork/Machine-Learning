{
  "nbformat": 4,
  "nbformat_minor": 0,
  "metadata": {
    "colab": {
      "provenance": [],
      "authorship_tag": "ABX9TyPKIrAhxifdfLyzlSr2G0O2",
      "include_colab_link": true
    },
    "kernelspec": {
      "name": "python3",
      "display_name": "Python 3"
    },
    "language_info": {
      "name": "python"
    }
  },
  "cells": [
    {
      "cell_type": "markdown",
      "metadata": {
        "id": "view-in-github",
        "colab_type": "text"
      },
      "source": [
        "<a href=\"https://colab.research.google.com/github/ushafromwork/Machine-Learning/blob/main/Vector_Operation_2.ipynb\" target=\"_parent\"><img src=\"https://colab.research.google.com/assets/colab-badge.svg\" alt=\"Open In Colab\"/></a>"
      ]
    },
    {
      "cell_type": "code",
      "execution_count": null,
      "metadata": {
        "id": "ItbC5KEf3S9c"
      },
      "outputs": [],
      "source": []
    },
    {
      "cell_type": "markdown",
      "source": [
        "1.Dot product of 2 vectors:  Both vectors should be of same shape, multiplication of 2 vectors and sum, the result will be a scalar-- a constant or an integer\n",
        "2.cross product of 2 vectors\n",
        "3.projection of vector"
      ],
      "metadata": {
        "id": "rfA0mr3C3sAD"
      }
    },
    {
      "cell_type": "code",
      "source": [
        "import numpy as np"
      ],
      "metadata": {
        "id": "eEbOiV9M6_8i"
      },
      "execution_count": null,
      "outputs": []
    },
    {
      "cell_type": "markdown",
      "source": [
        "#Dot product of 2 vectors"
      ],
      "metadata": {
        "id": "RYYx5gAW7Qd6"
      }
    },
    {
      "cell_type": "code",
      "source": [
        "a=np.array([2,3])\n",
        "b=np.array([4,4])\n",
        "a_dot_b=np.dot(a,b)"
      ],
      "metadata": {
        "id": "02rGZ65c7Tac"
      },
      "execution_count": null,
      "outputs": []
    },
    {
      "cell_type": "code",
      "source": [
        "print(a_dot_b)"
      ],
      "metadata": {
        "colab": {
          "base_uri": "https://localhost:8080/"
        },
        "id": "d8Fc6HEV7lI0",
        "outputId": "dafb8577-d10c-4b46-e7ad-c7ddb6881be2"
      },
      "execution_count": null,
      "outputs": [
        {
          "output_type": "stream",
          "name": "stdout",
          "text": [
            "20\n"
          ]
        }
      ]
    },
    {
      "cell_type": "code",
      "source": [
        "c=np.array([40,20,35])\n",
        "d=np.array([53,24,68])\n",
        "c_dot_d=np.dot(c,d)\n"
      ],
      "metadata": {
        "id": "JkqU3YfB7zSh"
      },
      "execution_count": null,
      "outputs": []
    },
    {
      "cell_type": "code",
      "source": [
        "print(c_dot_d)"
      ],
      "metadata": {
        "colab": {
          "base_uri": "https://localhost:8080/"
        },
        "id": "dEXyuwUp8KTi",
        "outputId": "e838da52-3125-4af1-a93e-26adf88d17fd"
      },
      "execution_count": null,
      "outputs": [
        {
          "output_type": "stream",
          "name": "stdout",
          "text": [
            "4980\n"
          ]
        }
      ]
    },
    {
      "cell_type": "markdown",
      "source": [
        "#Cross product of 2 vectors"
      ],
      "metadata": {
        "id": "yIVPSaCW8Ozs"
      }
    },
    {
      "cell_type": "code",
      "source": [
        "a=np.array([2,3])\n",
        "b=np.array([4,4])\n",
        "a_cross_b=np.cross(a,b)"
      ],
      "metadata": {
        "id": "bjc0HalR8R09"
      },
      "execution_count": null,
      "outputs": []
    },
    {
      "cell_type": "code",
      "source": [
        "print(a_cross_b)"
      ],
      "metadata": {
        "colab": {
          "base_uri": "https://localhost:8080/"
        },
        "id": "yvO51wzw8ePE",
        "outputId": "6de25d17-f64b-498b-8a6d-35411f470c25"
      },
      "execution_count": null,
      "outputs": [
        {
          "output_type": "stream",
          "name": "stdout",
          "text": [
            "-4\n"
          ]
        }
      ]
    },
    {
      "cell_type": "code",
      "source": [
        "e=np.array([5,7,9])\n",
        "f=np.array([2,6,3])\n",
        "e_cross_f=np.cross(e,f)"
      ],
      "metadata": {
        "id": "XtZrduxE8up_"
      },
      "execution_count": null,
      "outputs": []
    },
    {
      "cell_type": "code",
      "source": [
        "print(e_cross_f)"
      ],
      "metadata": {
        "colab": {
          "base_uri": "https://localhost:8080/"
        },
        "id": "UXAepxwW883S",
        "outputId": "1b2d972c-c90a-4123-bc64-88eea1cb2219"
      },
      "execution_count": null,
      "outputs": [
        {
          "output_type": "stream",
          "name": "stdout",
          "text": [
            "[-33   3  16]\n"
          ]
        }
      ]
    },
    {
      "cell_type": "markdown",
      "source": [
        "#Projection of \"a\" vector on \"v\" vector"
      ],
      "metadata": {
        "id": "XR-YfO7f9T_Z"
      }
    },
    {
      "cell_type": "code",
      "source": [
        "a=np.array([2,5])\n",
        "v=np.array([8,-6])\n",
        "#Magnitude of v vector\n",
        "\n",
        "magnitude_v=np.sqrt(sum(v**2))\n",
        "proj_a_on_v=(np.dot(a,v)/magnitude_v**2)*v\n"
      ],
      "metadata": {
        "id": "aPuVHxYD9c6L"
      },
      "execution_count": null,
      "outputs": []
    },
    {
      "cell_type": "code",
      "source": [
        "print(\"projection of a vector on v vector:\",proj_a_on_v)"
      ],
      "metadata": {
        "colab": {
          "base_uri": "https://localhost:8080/"
        },
        "id": "4s8tfobO-n9m",
        "outputId": "99f6d63e-208d-46cc-bdf6-33ffa099646d"
      },
      "execution_count": null,
      "outputs": [
        {
          "output_type": "stream",
          "name": "stdout",
          "text": [
            "projection of a vector on v vector: [-1.12  0.84]\n"
          ]
        }
      ]
    },
    {
      "cell_type": "code",
      "source": [
        "a=np.array([24,56,29])\n",
        "v=np.array([45,24,67])\n",
        "#Magnitude of v vector\n",
        "\n",
        "magnitude_v=np.sqrt(sum(v**2))\n",
        "proj_a_on_v=(np.dot(a,v)/magnitude_v**2)*v"
      ],
      "metadata": {
        "id": "teWHWnFI-1N0"
      },
      "execution_count": null,
      "outputs": []
    },
    {
      "cell_type": "code",
      "source": [
        "print(\"projection of a vector on v vector:\",proj_a_on_v)"
      ],
      "metadata": {
        "id": "Z5B7o9Cb_Aym",
        "outputId": "22b97aa3-0361-47dd-d498-621386478b39",
        "colab": {
          "base_uri": "https://localhost:8080/"
        }
      },
      "execution_count": null,
      "outputs": [
        {
          "output_type": "stream",
          "name": "stdout",
          "text": [
            "projection of a vector on v vector: [27.71720733 14.78251058 41.26784203]\n"
          ]
        }
      ]
    }
  ]
}