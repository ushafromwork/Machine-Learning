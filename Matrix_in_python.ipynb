{
  "nbformat": 4,
  "nbformat_minor": 0,
  "metadata": {
    "colab": {
      "provenance": [],
      "authorship_tag": "ABX9TyNmZnxAAZTlMNFlucPRnwCW",
      "include_colab_link": true
    },
    "kernelspec": {
      "name": "python3",
      "display_name": "Python 3"
    },
    "language_info": {
      "name": "python"
    }
  },
  "cells": [
    {
      "cell_type": "markdown",
      "metadata": {
        "id": "view-in-github",
        "colab_type": "text"
      },
      "source": [
        "<a href=\"https://colab.research.google.com/github/ushafromwork/Machine-Learning/blob/main/Matrix_in_python.ipynb\" target=\"_parent\"><img src=\"https://colab.research.google.com/assets/colab-badge.svg\" alt=\"Open In Colab\"/></a>"
      ]
    },
    {
      "cell_type": "code",
      "execution_count": 1,
      "metadata": {
        "id": "xIsR04QRDumq"
      },
      "outputs": [],
      "source": [
        "import numpy as np"
      ]
    },
    {
      "cell_type": "markdown",
      "source": [
        "#Creating a matrix using numpy"
      ],
      "metadata": {
        "id": "TOBU_JS0EFi6"
      }
    },
    {
      "cell_type": "code",
      "source": [
        "matrix_1=np.array([[2,3],[6,7]])\n",
        "print(matrix_1)"
      ],
      "metadata": {
        "colab": {
          "base_uri": "https://localhost:8080/"
        },
        "id": "bgG2ZB-gEK-X",
        "outputId": "8214eba0-7515-4a77-d03a-d31920f4270c"
      },
      "execution_count": 3,
      "outputs": [
        {
          "output_type": "stream",
          "name": "stdout",
          "text": [
            "[[2 3]\n",
            " [6 7]]\n"
          ]
        }
      ]
    },
    {
      "cell_type": "code",
      "source": [
        "matrix_1.shape"
      ],
      "metadata": {
        "colab": {
          "base_uri": "https://localhost:8080/"
        },
        "id": "ofhjx7lEEmtb",
        "outputId": "7e6859a1-ca24-4050-da9b-673b54419056"
      },
      "execution_count": 4,
      "outputs": [
        {
          "output_type": "execute_result",
          "data": {
            "text/plain": [
              "(2, 2)"
            ]
          },
          "metadata": {},
          "execution_count": 4
        }
      ]
    },
    {
      "cell_type": "code",
      "source": [
        "matrix_2=np.array([[10,34,25],[48,28,37],[15,38,35]])\n",
        "print(matrix_2)"
      ],
      "metadata": {
        "colab": {
          "base_uri": "https://localhost:8080/"
        },
        "id": "hxTno2CBEy3v",
        "outputId": "4e762e00-e186-4d85-8e3b-e0aa3d6760dd"
      },
      "execution_count": 6,
      "outputs": [
        {
          "output_type": "stream",
          "name": "stdout",
          "text": [
            "[[10 34 25]\n",
            " [48 28 37]\n",
            " [15 38 35]]\n"
          ]
        }
      ]
    },
    {
      "cell_type": "code",
      "source": [
        "matrix_2.shape"
      ],
      "metadata": {
        "colab": {
          "base_uri": "https://localhost:8080/"
        },
        "id": "I4odj2PWFIJR",
        "outputId": "214f4dc0-ef89-4202-b2e7-d49b4300d6b1"
      },
      "execution_count": 7,
      "outputs": [
        {
          "output_type": "execute_result",
          "data": {
            "text/plain": [
              "(3, 3)"
            ]
          },
          "metadata": {},
          "execution_count": 7
        }
      ]
    },
    {
      "cell_type": "markdown",
      "source": [
        "#Creating the matrices with random values"
      ],
      "metadata": {
        "id": "jPvdlBZAFKad"
      }
    },
    {
      "cell_type": "code",
      "source": [
        "random_matrix=np.random.rand(3,3)\n",
        "print(random_matrix)"
      ],
      "metadata": {
        "colab": {
          "base_uri": "https://localhost:8080/"
        },
        "id": "DS-IoQYKFOd8",
        "outputId": "68c7b10a-5e4f-4588-ac55-95954b16246d"
      },
      "execution_count": 11,
      "outputs": [
        {
          "output_type": "stream",
          "name": "stdout",
          "text": [
            "[[0.05683575 0.79781962 0.96168514]\n",
            " [0.66504031 0.26210576 0.41206956]\n",
            " [0.21164716 0.89315214 0.31653459]]\n"
          ]
        }
      ]
    },
    {
      "cell_type": "markdown",
      "source": [
        "#creating matrix with random integers"
      ],
      "metadata": {
        "id": "xceODRmLFnzJ"
      }
    },
    {
      "cell_type": "code",
      "source": [
        "random_matrix1=np.random.randint(100,size=(4,5))\n",
        "# values should not exceed 100 and shape(4,5)"
      ],
      "metadata": {
        "id": "NKlhx5rPFk09"
      },
      "execution_count": 14,
      "outputs": []
    },
    {
      "cell_type": "code",
      "source": [
        "print(random_matrix1)"
      ],
      "metadata": {
        "colab": {
          "base_uri": "https://localhost:8080/"
        },
        "id": "q6UVImWyGIEn",
        "outputId": "33c1a15a-4543-4e5b-f08f-fbf0dc1731b0"
      },
      "execution_count": 15,
      "outputs": [
        {
          "output_type": "stream",
          "name": "stdout",
          "text": [
            "[[93 74 56 73 21]\n",
            " [10  8 27 93 33]\n",
            " [ 6 34 24 36 98]\n",
            " [55 91 66  8 30]]\n"
          ]
        }
      ]
    },
    {
      "cell_type": "markdown",
      "source": [
        "#creating a matrix with all the values as 1"
      ],
      "metadata": {
        "id": "PkUr3mtkGPK4"
      }
    },
    {
      "cell_type": "code",
      "source": [
        "random_3=np.ones((2,3))\n",
        "print(random_3)"
      ],
      "metadata": {
        "colab": {
          "base_uri": "https://localhost:8080/"
        },
        "id": "RiU7cPGDGTRl",
        "outputId": "115c7809-9527-45ed-d1a2-a27446a07cd8"
      },
      "execution_count": 18,
      "outputs": [
        {
          "output_type": "stream",
          "name": "stdout",
          "text": [
            "[[1. 1. 1.]\n",
            " [1. 1. 1.]]\n"
          ]
        }
      ]
    },
    {
      "cell_type": "code",
      "source": [
        "random_5=np.ones((2,3),dtype=int)\n",
        "print(random_5)"
      ],
      "metadata": {
        "colab": {
          "base_uri": "https://localhost:8080/"
        },
        "id": "jmmt9D-pG3hE",
        "outputId": "870ea707-6144-4904-acaf-8d7f772f56fc"
      },
      "execution_count": 22,
      "outputs": [
        {
          "output_type": "stream",
          "name": "stdout",
          "text": [
            "[[1 1 1]\n",
            " [1 1 1]]\n"
          ]
        }
      ]
    },
    {
      "cell_type": "code",
      "source": [
        "random_4=np.zeros((3,4))\n",
        "print(random_4)"
      ],
      "metadata": {
        "colab": {
          "base_uri": "https://localhost:8080/"
        },
        "id": "N3Zq_3VzGmlY",
        "outputId": "606523b7-f411-427f-8144-265fe0c0bc31"
      },
      "execution_count": 21,
      "outputs": [
        {
          "output_type": "stream",
          "name": "stdout",
          "text": [
            "[[0. 0. 0. 0.]\n",
            " [0. 0. 0. 0.]\n",
            " [0. 0. 0. 0.]]\n"
          ]
        }
      ]
    },
    {
      "cell_type": "code",
      "source": [
        "identity_matrix= np.eye(3,3)"
      ],
      "metadata": {
        "id": "Y4Ar_RtAHAT6"
      },
      "execution_count": 27,
      "outputs": []
    },
    {
      "cell_type": "code",
      "source": [
        "print(identity_matrix)"
      ],
      "metadata": {
        "colab": {
          "base_uri": "https://localhost:8080/"
        },
        "id": "M1C_RFkuHKoo",
        "outputId": "0d51111d-2904-4817-ea94-1ca4c8e623e6"
      },
      "execution_count": 25,
      "outputs": [
        {
          "output_type": "stream",
          "name": "stdout",
          "text": [
            "[[1. 0. 0.]\n",
            " [0. 1. 0.]\n",
            " [0. 0. 1.]]\n"
          ]
        }
      ]
    },
    {
      "cell_type": "markdown",
      "source": [
        "#Transpose of a matrix"
      ],
      "metadata": {
        "id": "HyiYTQqHHkn5"
      }
    },
    {
      "cell_type": "code",
      "source": [
        "#converting rows to columns\n",
        "a=np.random.randint(100,size=(4,5))\n",
        "print(a)"
      ],
      "metadata": {
        "colab": {
          "base_uri": "https://localhost:8080/"
        },
        "id": "WqgUSedGHnGz",
        "outputId": "d70a2b08-14e9-4002-aafa-7de8e82f2dd5"
      },
      "execution_count": 29,
      "outputs": [
        {
          "output_type": "stream",
          "name": "stdout",
          "text": [
            "[[73 71 55 14 42]\n",
            " [ 4 70 28 38 78]\n",
            " [25 16  5 91 20]\n",
            " [ 9 93 25 89 12]]\n"
          ]
        }
      ]
    },
    {
      "cell_type": "code",
      "source": [
        "transpose_a=np.transpose(a)\n",
        "print(transpose_a)"
      ],
      "metadata": {
        "colab": {
          "base_uri": "https://localhost:8080/"
        },
        "id": "H1tyrbaRH9pX",
        "outputId": "27fc32a5-ca76-47d6-bf43-336982257778"
      },
      "execution_count": 31,
      "outputs": [
        {
          "output_type": "stream",
          "name": "stdout",
          "text": [
            "[[73  4 25  9]\n",
            " [71 70 16 93]\n",
            " [55 28  5 25]\n",
            " [14 38 91 89]\n",
            " [42 78 20 12]]\n"
          ]
        }
      ]
    }
  ]
}