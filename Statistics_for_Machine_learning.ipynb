{
  "nbformat": 4,
  "nbformat_minor": 0,
  "metadata": {
    "colab": {
      "provenance": [],
      "authorship_tag": "ABX9TyOBvONgwgJ6FbyRESMuQ84Q",
      "include_colab_link": true
    },
    "kernelspec": {
      "name": "python3",
      "display_name": "Python 3"
    },
    "language_info": {
      "name": "python"
    }
  },
  "cells": [
    {
      "cell_type": "markdown",
      "metadata": {
        "id": "view-in-github",
        "colab_type": "text"
      },
      "source": [
        "<a href=\"https://colab.research.google.com/github/ushafromwork/Machine-Learning/blob/main/Statistics_for_Machine_learning.ipynb\" target=\"_parent\"><img src=\"https://colab.research.google.com/assets/colab-badge.svg\" alt=\"Open In Colab\"/></a>"
      ]
    },
    {
      "cell_type": "code",
      "execution_count": null,
      "metadata": {
        "id": "9RT57FXHqHkA"
      },
      "outputs": [],
      "source": []
    },
    {
      "cell_type": "markdown",
      "source": [
        "Statistics is the science concerned with developing and studying methods for collecting,analysing,interpreting and presenting data.\n",
        "\n",
        "Statistics is a tool to undetstand the data better.Ia tool that helps us to extract information and knowledge  from data.\n",
        "\n",
        "Statistical Measures:\n",
        "1.Range\n",
        "2.Mean\n",
        "3.Standard Deviation"
      ],
      "metadata": {
        "id": "eofvcj90qwcV"
      }
    },
    {
      "cell_type": "markdown",
      "source": [
        "Few Applications of statistics:\n",
        "6 sigma,business,weather forecast"
      ],
      "metadata": {
        "id": "zSXfWXhBxkrs"
      }
    }
  ]
}