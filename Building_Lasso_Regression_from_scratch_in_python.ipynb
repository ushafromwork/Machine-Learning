{
  "nbformat": 4,
  "nbformat_minor": 0,
  "metadata": {
    "colab": {
      "provenance": [],
      "authorship_tag": "ABX9TyMbi0EJJ1w6UKGb4vWmCUKG",
      "include_colab_link": true
    },
    "kernelspec": {
      "name": "python3",
      "display_name": "Python 3"
    },
    "language_info": {
      "name": "python"
    }
  },
  "cells": [
    {
      "cell_type": "markdown",
      "metadata": {
        "id": "view-in-github",
        "colab_type": "text"
      },
      "source": [
        "<a href=\"https://colab.research.google.com/github/ushafromwork/Machine-Learning/blob/main/Building_Lasso_Regression_from_scratch_in_python.ipynb\" target=\"_parent\"><img src=\"https://colab.research.google.com/assets/colab-badge.svg\" alt=\"Open In Colab\"/></a>"
      ]
    },
    {
      "cell_type": "code",
      "execution_count": null,
      "metadata": {
        "id": "EOw3H5AvVx_n"
      },
      "outputs": [],
      "source": []
    },
    {
      "cell_type": "markdown",
      "source": [
        "**Lasso Regression:**\n",
        "\n",
        "y=wx+b\n",
        "\n",
        "y-->dependent variable\n",
        "\n",
        "x-->independent variable\n",
        "\n",
        "w-->weight\n",
        "\n",
        "b--->bias\n",
        "\n",
        "**Gradient Descent:**\n",
        "\n",
        "Is an optimization algorithm used for minimizing the loss function in various machine learning algorithms. It is used for updating the parameters of the learning model.\n",
        "\n",
        "w=w-L*dw\n",
        "\n",
        "b=b-L*db"
      ],
      "metadata": {
        "id": "Ah5F43_AV5wI"
      }
    },
    {
      "cell_type": "code",
      "source": [
        "import numpy as np\n"
      ],
      "metadata": {
        "id": "UBhCd-hXeD0I"
      },
      "execution_count": 1,
      "outputs": []
    },
    {
      "cell_type": "code",
      "source": [
        "class Lasso_Regression():\n",
        "\n",
        "   # initiating the hyper parameters--parameters which we give manually\n",
        "   def __init__(self,learning_rate,no_of_iterations,lambda_parameter):\n",
        "    self.learning_rate=learning_rate\n",
        "    self.no_of_iterations=no_of_iterations\n",
        "    self.lambda_parameter=lambda_parameter\n",
        "\n",
        "   # fitting the dataset to SVM Classifier\n",
        "   def fit(self,x,y):\n",
        "    #no.of datapoints in the data set(no.of rows)--m\n",
        "    #no.of input features in the dataset(no.of columns)--n--no.of columns without target column\n",
        "    self.m,self.n=x.shape\n",
        "\n",
        "    #initiating weight and bias value ,no.of weights==no.of columns in dataset\n",
        "    self.w =np.zeros(self.n)\n",
        "    self.b=0\n",
        "    self.x=x\n",
        "    self.y=y\n",
        "\n",
        "     #Implementing gradient descent\n",
        "    for i in range(self.no_of_iterations):\n",
        "      self.update_weights()\n",
        "\n",
        "\n",
        "  #Function for updating weights\n",
        "   def update_weights(self):\n",
        "\n",
        "    #Linear equation of the model\n",
        "    y_prediction=self.predict(self.x)\n",
        "\n",
        "    #gradients(dw,db)\n",
        "    #gradients for weights\n",
        "    dw=np.zeros(self.n)\n",
        "\n",
        "    for i in range(self.n):\n",
        "\n",
        "      if(self.w[i]>0):\n",
        "        #dj/dw\n",
        "          dw[i]=(-(2*(self.x[:,i]).dot(self.y - y_prediction)) + self.lambda_parameter)/m\n",
        "\n",
        "\n",
        "      else:\n",
        "        dw[i]= (-(2*(self.x[:,i]).dot(self.y - y_prediction)) - self.lambda_parameter)/m\n",
        "     #Gradients for bias\n",
        "    db=-2*np.sum(self.y -y_prediction)/self.m\n",
        "\n",
        "    self.w=self.w - self.learning_rate * dw\n",
        "    self.b=self.b - self.learning_rate * db\n",
        "\n",
        "\n",
        "   def predict(self,x):\n",
        "\n",
        "    return x.dot(self.w)+self.b\n",
        "\n",
        "\n",
        ""
      ],
      "metadata": {
        "id": "pWzQ1EgleHjL"
      },
      "execution_count": 2,
      "outputs": []
    },
    {
      "cell_type": "code",
      "source": [
        "import pandas as pd\n"
      ],
      "metadata": {
        "id": "EX9SiJfDmwqA"
      },
      "execution_count": null,
      "outputs": []
    }
  ]
}